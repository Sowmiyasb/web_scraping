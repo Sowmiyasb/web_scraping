{
 "cells": [
  {
   "cell_type": "code",
   "execution_count": 356,
   "metadata": {},
   "outputs": [],
   "source": [
    "import requests\n",
    "\n",
    "from bs4 import BeautifulSoup\n",
    "import pandas"
   ]
  },
  {
   "cell_type": "code",
   "execution_count": 357,
   "metadata": {},
   "outputs": [],
   "source": [
    "url = requests.get('https://yssofindia.org/spiritual/The-Purpose-of-Life')"
   ]
  },
  {
   "cell_type": "code",
   "execution_count": 358,
   "metadata": {},
   "outputs": [
    {
     "name": "stdout",
     "output_type": "stream",
     "text": [
      "<Response [200]>\n"
     ]
    }
   ],
   "source": [
    "print(url)"
   ]
  },
  {
   "cell_type": "code",
   "execution_count": 359,
   "metadata": {},
   "outputs": [],
   "source": [
    "source = BeautifulSoup(url.text, 'html.parser')\n"
   ]
  },
  {
   "cell_type": "code",
   "execution_count": null,
   "metadata": {},
   "outputs": [],
   "source": [
    "\n"
   ]
  },
  {
   "cell_type": "code",
   "execution_count": 360,
   "metadata": {},
   "outputs": [],
   "source": [
    "post_feed = source.find('div',class_=\"container padding-top-20 padding-bottom-40\")"
   ]
  },
  {
   "cell_type": "code",
   "execution_count": 361,
   "metadata": {},
   "outputs": [
    {
     "name": "stdout",
     "output_type": "stream",
     "text": [
      "<div class=\"container padding-top-20 padding-bottom-40\">\n",
      "<div class=\"row\">\n",
      "<div class=\"col-md-12\">\n",
      "<ul class=\"breadcrumb\">\n",
      "<li><a href=\"https://yssofindia.org/\">Home</a></li><li>Spiritual Living</li><li><a href=\"https://yssofindia.org/spiritual.php?flg=86\">How-to-Live Wisdom</a></li><li><a class=\"active\" href=\"https://yssofindia.org/spiritual.php?flg=97\">The Purpose of Life</a></li>\n",
      "</ul>\n",
      "</div>\n",
      "</div>\n",
      "<!--breadcrumb section end-->\n",
      "<div class=\"row\">\n",
      "<div class=\"col-md-12 wow fadeIn\" data-wow-delay=\"0.3s\">\n",
      "<h1>The Purpose of Life</h1>\n",
      "</div>\n",
      "</div>\n",
      "<!--Content Title section end-->\n",
      "<div class=\"row\">\n",
      "<div class=\"col-md-12 wow fadeIn\" data-wow-delay=\"0.2s\">\n",
      "<h3>Excerpts from the writings of Paramahansa Yogananda</h3>\n",
      "<p><img alt=\"\" class=\"img-responsive img-left-b\" height=\"389\" src=\"/UserFilesTwo/image/Woman%20with%20swan.jpg\" width=\"263\"/></p>\n",
      "<p><strong>M</strong>ankind is engaged in an eternal quest for that “something else” he hopes will bring him happiness, complete and unending. For those individual souls who have sought and found God, the search is over: He is that Something Else.</p>\n",
      "<div class=\"para-ornament\"> </div>\n",
      "<p>Many people may doubt that finding God is the purpose of life; but everyone can accept the idea that the purpose of life is to find happiness. I say that God is Happiness. He is Bliss. He is Love. He is Joy that will never go away from your soul. So why shouldn’t you try to acquire that Happiness? No one else can give it to you. You must continuously cultivate it yourself.</p>\n",
      "<div class=\"para-ornament\"> </div>\n",
      "<p>Even if life gave you at one time everything you wanted — wealth, power, friends — after a while you would again become dissatisfied and need something more. But there is one thing that can never become stale to you — joy itself. Happiness that is delightfully varied, though its essence is changeless, is the inner experience everyone is seeking. Lasting, ever new joy is God. Finding this Joy within, you will find it in everything without. In God you will tap the Reservoir of perennial, unending bliss.</p>\n",
      "<div class=\"para-ornament\"> </div>\n",
      "<p>Suppose you are going to be punished by not being allowed to go to sleep when you are desperately in need of rest, and suddenly someone says: “All right, you may go to sleep now.” Think of the joy you would feel just before falling asleep. Multiply that one million times! Still it would not describe the joy felt in communion with God.</p>\n",
      "<div class=\"para-ornament\"> </div>\n",
      "<p>The joy of God is boundless, unceasing, all the time new. Body, mind, nothing can disturb you when you are in that consciousness — such is the grace and glory of the Lord. And He will explain to you whatever you haven’t been able to understand; everything you want to know.</p>\n",
      "<div class=\"para-ornament\"> </div>\n",
      "<p>When you sit in the silence of deep meditation, joy bubbles up from within, roused by no outer stimulus. The joy of meditation is overwhelming. Those who have not gone into the silence of true meditation do not know what real joy is.</p>\n",
      "<p>As the mind and the feeling are directed inward, you begin to feel God’s joy. The pleasures of the senses do not last; but the joy of God is everlasting. It is incomparable!</p>\n",
      "<p>Very few of us know how much we can put into life if we use it properly, wisely, and economically. Let us economise our time — lifetimes ebb away before we wake up, and that is why we do not realise the value of the immortal time God has given us.</p>\n",
      "<div class=\"para-ornament\"> </div>\n",
      "<p>Do not while away your time in idleness. A great many people occupy themselves with inconsequential activities. Ask them what they have been doing and they will usually say, “Oh, I have been busy every minute!” But they can scarcely remember what they were so busy about!</p>\n",
      "<div class=\"para-ornament\"> </div>\n",
      "<p>In an instant you may be required to leave this world; you will have to cancel all your engagements. Why then give any other activity first importance, with the result that you have no time for God? That is not common sense. It is because of  <em>maya</em>, the net of cosmic delusion which is thrown over us, that we entangle ourselves in mundane interests and forget the Lord.</p>\n",
      "<div class=\"para-ornament\"> </div>\n",
      "<p>If we are attuned to God, our perception is limitless, pervading everywhere in the oceanic flow of the Divine Presence. When the Spirit is known, and when we know ourselves as Spirit, there is no land or sea, no earth or sky — all is He. The melting of everything in Spirit is a state no one can describe. A great bliss is felt — eternal fullness of joy and knowledge and love.</p>\n",
      "<div class=\"para-ornament\"> </div>\n",
      "<p>The love of God, the love of the Spirit, is an all-consuming love. Once you have experienced it, it shall lead you on and on in the eternal realms. That love will never be taken away from your heart. It shall burn there, and in its fire you shall find the great magnetism of Spirit that draws others unto you, and attracts whatsoever you truly need or desire.</p>\n",
      "<div class=\"para-ornament\"> </div>\n",
      "<p>I tell you truthfully that all my questions have been answered, not through man but through God. He is. He is. It is His spirit that talks to you through me. It is His love that I speak of. Thrill after thrill! Like gentle zephyrs His love comes over the soul. Day and night, week after week, year after year, it goes on increasing — you don’t know where the end is. And that is what you are seeking, every one of you. You think you want human love and prosperity, but behind these it is your Father who is calling you. If you realise He is greater than all His gifts, you will find Him.</p>\n",
      "<div class=\"para-ornament\"> </div>\n",
      "<p>Man has come on earth solely to learn to know God; he is here for no other reason. This is the true message of the Lord. To all those who seek and love Him, He tells of that great Life where there is no pain, no old age, no war, no death — only eternal assurance. In that Life nothing is destroyed. There is only ineffable happiness that will never grow stale — a happiness always new.</p>\n",
      "<div class=\"para-ornament\"> </div>\n",
      "<p>So that is why it is worthwhile to seek God. All those who sincerely seek Him will surely find Him. Those who want to love the Lord and yearn to enter His kingdom, and who sincerely wish in their hearts to know Him, will find Him. You must have an ever-increasing desire for Him, day and night. He will acknowledge your love by fulfilling His promise to you throughout eternity, and you shall know joy and happiness unending. All is light, all is joy, all is peace, all is love. He is all.</p>\n",
      "<h3 style=\"text-align: center;\"><strong>Further Exploration</strong></h3>\n",
      "<ul class=\"yss-list\">\n",
      "<li><a href=\"https://bookstore.yssofindia.org/product/mans-eternal-quest---paperback\" target=\"_blank\">\"The Purpose of Life is to Find God,\" Man's Eternal Quest by Paramahansa Yogananda</a></li>\n",
      "<li><a href=\"https://bookstore.yssofindia.org/product/the-science-of-religion-english\" target=\"_blank\">“The Science of Religion” by Paramahansa Yogananda</a></li>\n",
      "<li><a href=\"https://bookstore.yssofindia.org/product/only-love-english\" target=\"_blank\">\"Our Divine Destiny,\" Only Love by Sri Daya Mata</a></li>\n",
      "<li><a href=\"https://bookstore.yssofindia.org/product/intuition:-soul-guidance-for-life-decisions\" target=\"_blank\">“Intuition: Soul Guidance for Life’s Decisions” by Sri Daya Mata</a></li>\n",
      "</ul>\n",
      "</div>\n",
      "</div>\n",
      "</div>\n"
     ]
    }
   ],
   "source": [
    "print (post_feed)"
   ]
  },
  {
   "cell_type": "code",
   "execution_count": 362,
   "metadata": {},
   "outputs": [
    {
     "data": {
      "text/plain": [
       "[<p><img alt=\"\" class=\"img-responsive img-left-b\" height=\"389\" src=\"/UserFilesTwo/image/Woman%20with%20swan.jpg\" width=\"263\"/></p>,\n",
       " <p><strong>M</strong>ankind is engaged in an eternal quest for that “something else” he hopes will bring him happiness, complete and unending. For those individual souls who have sought and found God, the search is over: He is that Something Else.</p>,\n",
       " <p>Many people may doubt that finding God is the purpose of life; but everyone can accept the idea that the purpose of life is to find happiness. I say that God is Happiness. He is Bliss. He is Love. He is Joy that will never go away from your soul. So why shouldn’t you try to acquire that Happiness? No one else can give it to you. You must continuously cultivate it yourself.</p>,\n",
       " <p>Even if life gave you at one time everything you wanted — wealth, power, friends — after a while you would again become dissatisfied and need something more. But there is one thing that can never become stale to you — joy itself. Happiness that is delightfully varied, though its essence is changeless, is the inner experience everyone is seeking. Lasting, ever new joy is God. Finding this Joy within, you will find it in everything without. In God you will tap the Reservoir of perennial, unending bliss.</p>,\n",
       " <p>Suppose you are going to be punished by not being allowed to go to sleep when you are desperately in need of rest, and suddenly someone says: “All right, you may go to sleep now.” Think of the joy you would feel just before falling asleep. Multiply that one million times! Still it would not describe the joy felt in communion with God.</p>,\n",
       " <p>The joy of God is boundless, unceasing, all the time new. Body, mind, nothing can disturb you when you are in that consciousness — such is the grace and glory of the Lord. And He will explain to you whatever you haven’t been able to understand; everything you want to know.</p>,\n",
       " <p>When you sit in the silence of deep meditation, joy bubbles up from within, roused by no outer stimulus. The joy of meditation is overwhelming. Those who have not gone into the silence of true meditation do not know what real joy is.</p>,\n",
       " <p>As the mind and the feeling are directed inward, you begin to feel God’s joy. The pleasures of the senses do not last; but the joy of God is everlasting. It is incomparable!</p>,\n",
       " <p>Very few of us know how much we can put into life if we use it properly, wisely, and economically. Let us economise our time — lifetimes ebb away before we wake up, and that is why we do not realise the value of the immortal time God has given us.</p>,\n",
       " <p>Do not while away your time in idleness. A great many people occupy themselves with inconsequential activities. Ask them what they have been doing and they will usually say, “Oh, I have been busy every minute!” But they can scarcely remember what they were so busy about!</p>,\n",
       " <p>In an instant you may be required to leave this world; you will have to cancel all your engagements. Why then give any other activity first importance, with the result that you have no time for God? That is not common sense. It is because of  <em>maya</em>, the net of cosmic delusion which is thrown over us, that we entangle ourselves in mundane interests and forget the Lord.</p>,\n",
       " <p>If we are attuned to God, our perception is limitless, pervading everywhere in the oceanic flow of the Divine Presence. When the Spirit is known, and when we know ourselves as Spirit, there is no land or sea, no earth or sky — all is He. The melting of everything in Spirit is a state no one can describe. A great bliss is felt — eternal fullness of joy and knowledge and love.</p>,\n",
       " <p>The love of God, the love of the Spirit, is an all-consuming love. Once you have experienced it, it shall lead you on and on in the eternal realms. That love will never be taken away from your heart. It shall burn there, and in its fire you shall find the great magnetism of Spirit that draws others unto you, and attracts whatsoever you truly need or desire.</p>,\n",
       " <p>I tell you truthfully that all my questions have been answered, not through man but through God. He is. He is. It is His spirit that talks to you through me. It is His love that I speak of. Thrill after thrill! Like gentle zephyrs His love comes over the soul. Day and night, week after week, year after year, it goes on increasing — you don’t know where the end is. And that is what you are seeking, every one of you. You think you want human love and prosperity, but behind these it is your Father who is calling you. If you realise He is greater than all His gifts, you will find Him.</p>,\n",
       " <p>Man has come on earth solely to learn to know God; he is here for no other reason. This is the true message of the Lord. To all those who seek and love Him, He tells of that great Life where there is no pain, no old age, no war, no death — only eternal assurance. In that Life nothing is destroyed. There is only ineffable happiness that will never grow stale — a happiness always new.</p>,\n",
       " <p>So that is why it is worthwhile to seek God. All those who sincerely seek Him will surely find Him. Those who want to love the Lord and yearn to enter His kingdom, and who sincerely wish in their hearts to know Him, will find Him. You must have an ever-increasing desire for Him, day and night. He will acknowledge your love by fulfilling His promise to you throughout eternity, and you shall know joy and happiness unending. All is light, all is joy, all is peace, all is love. He is all.</p>]"
      ]
     },
     "execution_count": 362,
     "metadata": {},
     "output_type": "execute_result"
    }
   ],
   "source": [
    "extract=post_feed.find_all('div',class_=\"col-md-12 wow fadeIn\")\n",
    "\n",
    "extract_post=extract[1].find_all('p')\n",
    "extract_post"
   ]
  },
  {
   "cell_type": "code",
   "execution_count": 363,
   "metadata": {},
   "outputs": [],
   "source": [
    "def get_post_details(article):\n",
    "    title = article.text\n",
    "    \n",
    "    return {\n",
    "        \"title\": title,\n",
    "        \n",
    "    }"
   ]
  },
  {
   "cell_type": "code",
   "execution_count": 364,
   "metadata": {},
   "outputs": [
    {
     "data": {
      "text/plain": [
       "[{'title': ''},\n",
       " {'title': 'Mankind is engaged in an eternal quest for that “something else” he hopes will bring him happiness, complete and unending. For those individual souls who have sought and found God, the search is over: He is that Something Else.'},\n",
       " {'title': 'Many people may doubt that finding God is the purpose of life; but everyone can accept the idea that the purpose of life is to find happiness. I say that God is Happiness. He is Bliss. He is Love. He is Joy that will never go away from your soul. So why shouldn’t you try to acquire that Happiness? No one else can give it to you. You must continuously cultivate it yourself.'},\n",
       " {'title': 'Even if life gave you at one time everything you wanted — wealth, power, friends — after a while you would again become dissatisfied and need something more. But there is one thing that can never become stale to you — joy itself. Happiness that is delightfully varied, though its essence is changeless, is the inner experience everyone is seeking. Lasting, ever new joy is God. Finding this Joy within, you will find it in everything without. In God you will tap the Reservoir of perennial, unending bliss.'},\n",
       " {'title': 'Suppose you are going to be punished by not being allowed to go to sleep when you are desperately in need of rest, and suddenly someone says: “All right, you may go to sleep now.” Think of the joy you would feel just before falling asleep. Multiply that one million times! Still it would not describe the joy felt in communion with God.'},\n",
       " {'title': 'The joy of God is boundless, unceasing, all the time new. Body, mind, nothing can disturb you when you are in that consciousness — such is the grace and glory of the Lord. And He will explain to you whatever you haven’t been able to understand; everything you want to know.'},\n",
       " {'title': 'When you sit in the silence of deep meditation, joy bubbles up from within, roused by no outer stimulus. The joy of meditation is overwhelming. Those who have not gone into the silence of true meditation do not know what real joy is.'},\n",
       " {'title': 'As the mind and the feeling are directed inward, you begin to feel God’s joy. The pleasures of the senses do not last; but the joy of God is everlasting. It is incomparable!'},\n",
       " {'title': 'Very few of us know how much we can put into life if we use it properly, wisely, and economically. Let us economise our time — lifetimes ebb away before we wake up, and that is why we do not realise the value of the immortal time God has given us.'},\n",
       " {'title': 'Do not while away your time in idleness. A great many people occupy themselves with inconsequential activities. Ask them what they have been doing and they will usually say, “Oh, I have been busy every minute!” But they can scarcely remember what they were so busy about!'},\n",
       " {'title': 'In an instant you may be required to leave this world; you will have to cancel all your engagements. Why then give any other activity first importance, with the result that you have no time for God? That is not common sense. It is because of  maya, the net of cosmic delusion which is thrown over us, that we entangle ourselves in mundane interests and forget the Lord.'},\n",
       " {'title': 'If we are attuned to God, our perception is limitless, pervading everywhere in the oceanic flow of the Divine Presence. When the Spirit is known, and when we know ourselves as Spirit, there is no land or sea, no earth or sky — all is He. The melting of everything in Spirit is a state no one can describe. A great bliss is felt — eternal fullness of joy and knowledge and love.'},\n",
       " {'title': 'The love of God, the love of the Spirit, is an all-consuming love. Once you have experienced it, it shall lead you on and on in the eternal realms. That love will never be taken away from your heart. It shall burn there, and in its fire you shall find the great magnetism of Spirit that draws others unto you, and attracts whatsoever you truly need or desire.'},\n",
       " {'title': 'I tell you truthfully that all my questions have been answered, not through man but through God. He is. He is. It is His spirit that talks to you through me. It is His love that I speak of. Thrill after thrill! Like gentle zephyrs His love comes over the soul. Day and night, week after week, year after year, it goes on increasing — you don’t know where the end is. And that is what you are seeking, every one of you. You think you want human love and prosperity, but behind these it is your Father who is calling you. If you realise He is greater than all His gifts, you will find Him.'},\n",
       " {'title': 'Man has come on earth solely to learn to know God; he is here for no other reason. This is the true message of the Lord. To all those who seek and love Him, He tells of that great Life where there is no pain, no old age, no war, no death — only eternal assurance. In that Life nothing is destroyed. There is only ineffable happiness that will never grow stale — a happiness always new.'},\n",
       " {'title': 'So that is why it is worthwhile to seek God. All those who sincerely seek Him will surely find Him. Those who want to love the Lord and yearn to enter His kingdom, and who sincerely wish in their hearts to know Him, will find Him. You must have an ever-increasing desire for Him, day and night. He will acknowledge your love by fulfilling His promise to you throughout eternity, and you shall know joy and happiness unending. All is light, all is joy, all is peace, all is love. He is all.'}]"
      ]
     },
     "execution_count": 364,
     "metadata": {},
     "output_type": "execute_result"
    }
   ],
   "source": [
    "blog_posts = [get_post_details(extract_) for extract_ in extract_post];\n",
    "blog_posts"
   ]
  },
  {
   "cell_type": "code",
   "execution_count": 365,
   "metadata": {},
   "outputs": [
    {
     "data": {
      "text/html": [
       "<div>\n",
       "<style scoped>\n",
       "    .dataframe tbody tr th:only-of-type {\n",
       "        vertical-align: middle;\n",
       "    }\n",
       "\n",
       "    .dataframe tbody tr th {\n",
       "        vertical-align: top;\n",
       "    }\n",
       "\n",
       "    .dataframe thead th {\n",
       "        text-align: right;\n",
       "    }\n",
       "</style>\n",
       "<table border=\"1\" class=\"dataframe\">\n",
       "  <thead>\n",
       "    <tr style=\"text-align: right;\">\n",
       "      <th></th>\n",
       "      <th>title</th>\n",
       "    </tr>\n",
       "  </thead>\n",
       "  <tbody>\n",
       "    <tr>\n",
       "      <th>0</th>\n",
       "      <td></td>\n",
       "    </tr>\n",
       "    <tr>\n",
       "      <th>1</th>\n",
       "      <td>Mankind is engaged in an eternal quest for tha...</td>\n",
       "    </tr>\n",
       "    <tr>\n",
       "      <th>2</th>\n",
       "      <td>Many people may doubt that finding God is the ...</td>\n",
       "    </tr>\n",
       "    <tr>\n",
       "      <th>3</th>\n",
       "      <td>Even if life gave you at one time everything y...</td>\n",
       "    </tr>\n",
       "    <tr>\n",
       "      <th>4</th>\n",
       "      <td>Suppose you are going to be punished by not be...</td>\n",
       "    </tr>\n",
       "    <tr>\n",
       "      <th>5</th>\n",
       "      <td>The joy of God is boundless, unceasing, all th...</td>\n",
       "    </tr>\n",
       "    <tr>\n",
       "      <th>6</th>\n",
       "      <td>When you sit in the silence of deep meditation...</td>\n",
       "    </tr>\n",
       "    <tr>\n",
       "      <th>7</th>\n",
       "      <td>As the mind and the feeling are directed inwar...</td>\n",
       "    </tr>\n",
       "    <tr>\n",
       "      <th>8</th>\n",
       "      <td>Very few of us know how much we can put into l...</td>\n",
       "    </tr>\n",
       "    <tr>\n",
       "      <th>9</th>\n",
       "      <td>Do not while away your time in idleness. A gre...</td>\n",
       "    </tr>\n",
       "    <tr>\n",
       "      <th>10</th>\n",
       "      <td>In an instant you may be required to leave thi...</td>\n",
       "    </tr>\n",
       "    <tr>\n",
       "      <th>11</th>\n",
       "      <td>If we are attuned to God, our perception is li...</td>\n",
       "    </tr>\n",
       "    <tr>\n",
       "      <th>12</th>\n",
       "      <td>The love of God, the love of the Spirit, is an...</td>\n",
       "    </tr>\n",
       "    <tr>\n",
       "      <th>13</th>\n",
       "      <td>I tell you truthfully that all my questions ha...</td>\n",
       "    </tr>\n",
       "    <tr>\n",
       "      <th>14</th>\n",
       "      <td>Man has come on earth solely to learn to know ...</td>\n",
       "    </tr>\n",
       "    <tr>\n",
       "      <th>15</th>\n",
       "      <td>So that is why it is worthwhile to seek God. A...</td>\n",
       "    </tr>\n",
       "  </tbody>\n",
       "</table>\n",
       "</div>"
      ],
      "text/plain": [
       "                                                title\n",
       "0                                                    \n",
       "1   Mankind is engaged in an eternal quest for tha...\n",
       "2   Many people may doubt that finding God is the ...\n",
       "3   Even if life gave you at one time everything y...\n",
       "4   Suppose you are going to be punished by not be...\n",
       "5   The joy of God is boundless, unceasing, all th...\n",
       "6   When you sit in the silence of deep meditation...\n",
       "7   As the mind and the feeling are directed inwar...\n",
       "8   Very few of us know how much we can put into l...\n",
       "9   Do not while away your time in idleness. A gre...\n",
       "10  In an instant you may be required to leave thi...\n",
       "11  If we are attuned to God, our perception is li...\n",
       "12  The love of God, the love of the Spirit, is an...\n",
       "13  I tell you truthfully that all my questions ha...\n",
       "14  Man has come on earth solely to learn to know ...\n",
       "15  So that is why it is worthwhile to seek God. A..."
      ]
     },
     "execution_count": 365,
     "metadata": {},
     "output_type": "execute_result"
    }
   ],
   "source": [
    "df = pandas.DataFrame(blog_posts)\n",
    "df"
   ]
  },
  {
   "cell_type": "code",
   "execution_count": 366,
   "metadata": {},
   "outputs": [],
   "source": [
    "df.to_csv(\"Output.csv\")"
   ]
  }
 ],
 "metadata": {
  "kernelspec": {
   "display_name": "Python 3",
   "language": "python",
   "name": "python3"
  },
  "language_info": {
   "codemirror_mode": {
    "name": "ipython",
    "version": 3
   },
   "file_extension": ".py",
   "mimetype": "text/x-python",
   "name": "python",
   "nbconvert_exporter": "python",
   "pygments_lexer": "ipython3",
   "version": "3.7.3"
  }
 },
 "nbformat": 4,
 "nbformat_minor": 2
}
